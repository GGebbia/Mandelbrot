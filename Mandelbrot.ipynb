{
 "cells": [
  {
   "cell_type": "markdown",
   "metadata": {},
   "source": [
    "### Mandelbrot Set \n",
    "\n",
    "The Mandelbrot Set is defined as the set of complex numbers c such that the following sequence converge\n",
    "\n",
    "\n",
    "$z_0 = 0$\n",
    "\n",
    "$z_n = z_{n-1}^2+c$\n",
    "\n"
   ]
  },
  {
   "cell_type": "markdown",
   "metadata": {},
   "source": [
    "Even though I could use libraries as cmath or numpy to use complex numbers I decided to implement it defining  \n",
    "the class Complex with the adding, substraction, multiplication and division methods.\n"
   ]
  },
  {
   "cell_type": "code",
   "execution_count": 1,
   "metadata": {},
   "outputs": [],
   "source": [
    "# Importing useful libraries\n",
    "\n",
    "import numpy as np\n",
    "import os\n",
    "import matplotlib.pyplot as plt\n",
    "from matplotlib.pyplot import figure\n",
    "%matplotlib inline "
   ]
  },
  {
   "cell_type": "code",
   "execution_count": 2,
   "metadata": {},
   "outputs": [],
   "source": [
    "# Defining the complex numbers class\n",
    "class Complex():\n",
    "    \n",
    "    def __init__(self, real=0, imag=0): \n",
    "        self.real = real\n",
    "        self.imag = imag\n",
    "\n",
    "    def __add__(self,other):\n",
    "        return Complex(self.real + other.real, self.imag + other.imag)\n",
    "    \n",
    "    def __mul__(self,other):\n",
    "        return Complex(self.real * other.real - self.imag * other.imag,\n",
    "                      self.real * other.imag + self.imag * other.real)\n",
    "    \n",
    "    def __sub__(self,other):\n",
    "        return Complex(self.real - other.real, self.imag - other.imag)\n",
    "    \n",
    "    def __abs__(self):\n",
    "        return (self.real**2+self.imag**2)**(1/2)"
   ]
  },
  {
   "cell_type": "code",
   "execution_count": 3,
   "metadata": {},
   "outputs": [],
   "source": [
    "maxIter = 100\n",
    "\n",
    "def mandelbrot(c):\n",
    "    \"\"\"\n",
    "    Computes if a complex number remains to the Mandelbrot set.\n",
    "    \n",
    "    Parameters:\n",
    "    c --> Complex number\n",
    "    \n",
    "    Returns: 1 if the point is mandelbrot, 0 otherwise.\n",
    "    \"\"\"\n",
    "    n = 0\n",
    "    succ = [Complex(), c]\n",
    "    while (abs(succ[-1]) <= 2 and n < maxIter):\n",
    "        z_n = succ[-1] * succ[-1] + c\n",
    "        succ.append(z_n)\n",
    "        n += 1\n",
    "        \n",
    "    if (n == maxIter): return 1\n",
    "    else: return 0\n",
    "    \n",
    "        "
   ]
  },
  {
   "cell_type": "code",
   "execution_count": 4,
   "metadata": {},
   "outputs": [],
   "source": [
    "def mandelbrot_set(c, width, height):\n",
    "    \"\"\"\n",
    "    Computes the elements of the Mandelbrot Set inside some rectangle  and complex number c\n",
    "    \n",
    "    Parameters:\n",
    "    c: complex number of type Complex\n",
    "    width: integer\n",
    "    height: integer\n",
    "    \n",
    "    Returns:\n",
    " \n",
    "    mandelbrotSet: numpy array of shape height x width, full of 0 or 1 depending if the point remains to mandelbrot or not.\n",
    "    \n",
    "    \"\"\"\n",
    "\n",
    "    # \n",
    "    x_range = [c.real - 2, c.real + 1]\n",
    "    y_range = [c.imag - 1, c.imag + 1]\n",
    "    x_points = np.linspace(x_range[0], x_range[1], width)\n",
    "    y_points = np.linspace(y_range[0], y_range[1], height)\n",
    "\n",
    "    mandelbrotSet = np.array([[mandelbrot(Complex(x,y)) for x in x_points] for y in y_points]).reshape([height, width])\n",
    "    \n",
    "    return mandelbrotSet"
   ]
  },
  {
   "cell_type": "code",
   "execution_count": 5,
   "metadata": {},
   "outputs": [],
   "source": [
    "# Mandelbrot Set centrated on c = 0\n",
    "c = Complex(0, 0)\n",
    "width = 1000\n",
    "height = 666"
   ]
  },
  {
   "cell_type": "code",
   "execution_count": 6,
   "metadata": {},
   "outputs": [],
   "source": [
    "man_set = mandelbrot_set(c, width, height)"
   ]
  },
  {
   "cell_type": "code",
   "execution_count": 7,
   "metadata": {},
   "outputs": [
    {
     "data": {
      "image/png": "[encoded data removed]",
      "text/plain": [
       "<Figure size 960x1120 with 1 Axes>"
      ]
     },
     "metadata": {},
     "output_type": "display_data"
    }
   ],
   "source": [
    "figure(num=None, figsize=(12, 14), dpi=80, facecolor='w', edgecolor='k')\n",
    "\n",
    "img = plt.imshow(man_set)"
   ]
  },
  {
   "cell_type": "code",
   "execution_count": 8,
   "metadata": {},
   "outputs": [
    {
     "data": {
      "text/plain": [
       "<Figure size 432x288 with 0 Axes>"
      ]
     },
     "metadata": {},
     "output_type": "display_data"
    }
   ],
   "source": [
    "plt.savefig('mandelbrot.jpg')"
   ]
  },
  {
   "cell_type": "code",
   "execution_count": null,
   "metadata": {},
   "outputs": [],
   "source": []
  }
 ],
 "metadata": {
  "kernelspec": {
   "display_name": "Python 3",
   "language": "python",
   "name": "python3"
  },
  "language_info": {
   "codemirror_mode": {
    "name": "ipython",
    "version": 3
   },
   "file_extension": ".py",
   "mimetype": "text/x-python",
   "name": "python",
   "nbconvert_exporter": "python",
   "pygments_lexer": "ipython3",
   "version": "3.7.0"
  }
 },
 "nbformat": 4,
 "nbformat_minor": 2
}
